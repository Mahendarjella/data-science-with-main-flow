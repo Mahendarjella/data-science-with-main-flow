{
 "cells": [
  {
   "cell_type": "code",
   "execution_count": 1,
   "id": "c39720b0-6366-4ee0-8de6-aced735d844c",
   "metadata": {},
   "outputs": [
    {
     "name": "stdout",
     "output_type": "stream",
     "text": [
      "Initial List: [1, 2, 3, 4, 5]\n",
      "List after adding an element: [1, 2, 3, 4, 5, 6]\n",
      "List after removing an element: [1, 3, 4, 5, 6]\n",
      "List after modifying an element: [1, 3, 10, 5, 6]\n"
     ]
    }
   ],
   "source": [
    "# Creating a list\n",
    "data_list = [1, 2, 3, 4, 5]\n",
    "print(\"Initial List:\", data_list)\n",
    "\n",
    "# Adding an element to the list\n",
    "data_list.append(6)\n",
    "print(\"List after adding an element:\", data_list)\n",
    "\n",
    "# Removing an element from the list\n",
    "data_list.remove(2)  # Removes the first occurrence of the value 2\n",
    "print(\"List after removing an element:\", data_list)\n",
    "\n",
    "# Modifying an element in the list\n",
    "data_list[2] = 10  # Replaces the third element\n",
    "print(\"List after modifying an element:\", data_list)"
   ]
  },
  {
   "cell_type": "code",
   "execution_count": 2,
   "id": "ca9f5bbe-ee28-4e24-848e-a002ebf1baba",
   "metadata": {},
   "outputs": [
    {
     "name": "stdout",
     "output_type": "stream",
     "text": [
      "\n",
      "Initial Dictionary: {'name': 'Alice', 'age': 25, 'city': 'New York'}\n",
      "Dictionary after adding a key-value pair: {'name': 'Alice', 'age': 25, 'city': 'New York', 'profession': 'Engineer'}\n",
      "Dictionary after removing a key-value pair: {'name': 'Alice', 'city': 'New York', 'profession': 'Engineer'}\n",
      "Dictionary after modifying a value: {'name': 'Alice', 'city': 'Los Angeles', 'profession': 'Engineer'}\n"
     ]
    }
   ],
   "source": [
    "# Creating a dictionary\n",
    "data_dict = {\"name\": \"Alice\", \"age\": 25, \"city\": \"New York\"}\n",
    "print(\"\\nInitial Dictionary:\", data_dict)\n",
    "\n",
    "# Adding a key-value pair to the dictionary\n",
    "data_dict[\"profession\"] = \"Engineer\"\n",
    "print(\"Dictionary after adding a key-value pair:\", data_dict)\n",
    "\n",
    "# Removing a key-value pair from the dictionary\n",
    "data_dict.pop(\"age\")\n",
    "print(\"Dictionary after removing a key-value pair:\", data_dict)\n",
    "\n",
    "# Modifying a value in the dictionary\n",
    "data_dict[\"city\"] = \"Los Angeles\"\n",
    "print(\"Dictionary after modifying a value:\", data_dict)\n"
   ]
  },
  {
   "cell_type": "code",
   "execution_count": 3,
   "id": "3a3838d2-7cf6-4e47-8d45-eba2f3fc9177",
   "metadata": {},
   "outputs": [
    {
     "name": "stdout",
     "output_type": "stream",
     "text": [
      "\n",
      "Initial Set: {1, 2, 3, 4, 5}\n",
      "Set after adding an element: {1, 2, 3, 4, 5, 6}\n",
      "Set after removing an element: {1, 2, 4, 5, 6}\n",
      "Is 4 in the set? True\n",
      "Is 7 in the set? False\n"
     ]
    }
   ],
   "source": [
    "# Creating a set\n",
    "data_set = {1, 2, 3, 4, 5}\n",
    "print(\"\\nInitial Set:\", data_set)\n",
    "\n",
    "# Adding an element to the set\n",
    "data_set.add(6)\n",
    "print(\"Set after adding an element:\", data_set)\n",
    "\n",
    "# Removing an element from the set\n",
    "data_set.discard(3)  # Does not raise an error if the element is not found\n",
    "print(\"Set after removing an element:\", data_set)\n",
    "\n",
    "# Checking if an element exists in the set\n",
    "print(\"Is 4 in the set?\", 4 in data_set)\n",
    "print(\"Is 7 in the set?\", 7 in data_set)\n"
   ]
  },
  {
   "cell_type": "code",
   "execution_count": null,
   "id": "b8b7ac7d-23c1-4138-bdeb-d135beb35e08",
   "metadata": {},
   "outputs": [],
   "source": []
  }
 ],
 "metadata": {
  "kernelspec": {
   "display_name": "Python 3 (ipykernel)",
   "language": "python",
   "name": "python3"
  },
  "language_info": {
   "codemirror_mode": {
    "name": "ipython",
    "version": 3
   },
   "file_extension": ".py",
   "mimetype": "text/x-python",
   "name": "python",
   "nbconvert_exporter": "python",
   "pygments_lexer": "ipython3",
   "version": "3.12.4"
  }
 },
 "nbformat": 4,
 "nbformat_minor": 5
}
